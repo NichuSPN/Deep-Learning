{
 "cells": [
  {
   "cell_type": "markdown",
   "id": "every-majority",
   "metadata": {},
   "source": [
    "<h1>Data Preprocessing</h1>"
   ]
  },
  {
   "cell_type": "code",
   "execution_count": 1,
   "id": "soviet-member",
   "metadata": {},
   "outputs": [],
   "source": [
    "import numpy as np\n",
    "from random import randint\n",
    "from sklearn.utils import shuffle\n",
    "from sklearn.preprocessing import MinMaxScaler"
   ]
  },
  {
   "cell_type": "code",
   "execution_count": 2,
   "id": "administrative-garage",
   "metadata": {},
   "outputs": [],
   "source": [
    "train_labels = []\n",
    "train_samples = []"
   ]
  },
  {
   "cell_type": "markdown",
   "id": "neutral-traffic",
   "metadata": {},
   "source": [
    "<h2>Model Clinical dataset:</h2>\n",
    "<ul>\n",
    "    <li>Data of People from age 13-100</li>\n",
    "    <li>2 Categories : Younger people->13-63 and Older people->64-100</li>\n",
    "    <li>Younger People : with Disease->5% and without Disease->95%</li>\n",
    "    <li>Older People : with Disease->95% and without Disease->5%</li>\n",
    "</ul>"
   ]
  },
  {
   "cell_type": "code",
   "execution_count": 3,
   "id": "tough-willow",
   "metadata": {},
   "outputs": [],
   "source": [
    "# Creating Dataset\n",
    "# 5% of younger individuals(13 - 64) have disease and 5% of older individuals don't have disease\n",
    "for i in range(50):\n",
    "    random_younger = randint(13, 64)\n",
    "    train_samples.append(random_younger)\n",
    "    train_labels.append(1)\n",
    "\n",
    "    random_older = randint(65, 100)\n",
    "    train_samples.append(random_older)\n",
    "    train_labels.append(0)\n",
    "\n",
    "# remaining of younger dont have disease and of older have disease\n",
    "for i in range(950):\n",
    "    random_younger = randint(13, 64)\n",
    "    train_samples.append(random_younger)\n",
    "    train_labels.append(0)\n",
    "\n",
    "    random_older = randint(65, 100)\n",
    "    train_samples.append(random_older)\n",
    "    train_labels.append(1)"
   ]
  },
  {
   "cell_type": "code",
   "execution_count": 4,
   "id": "brutal-worship",
   "metadata": {},
   "outputs": [],
   "source": [
    "# Shuffle Data\n",
    "train_labels = np.array(train_labels)\n",
    "train_samples = np.array(train_samples)\n",
    "train_labels, train_samples = shuffle(train_labels, train_samples)"
   ]
  },
  {
   "cell_type": "code",
   "execution_count": 5,
   "id": "canadian-monitor",
   "metadata": {},
   "outputs": [],
   "source": [
    "# MinMaxScaler scales all data either in the range of [0,1] mostly or [-1,1] in case of any negative values\n",
    "scaler = MinMaxScaler(feature_range=(0, 1))\n",
    "scaled_train_samples = scaler.fit_transform(train_samples.reshape(-1, 1))"
   ]
  },
  {
   "cell_type": "markdown",
   "id": "endangered-covering",
   "metadata": {},
   "source": [
    "<h1>Sequential Model"
   ]
  },
  {
   "cell_type": "markdown",
   "id": "thorough-clone",
   "metadata": {},
   "source": [
    "<h2>Model Creation</h2>"
   ]
  },
  {
   "cell_type": "code",
   "execution_count": 37,
   "id": "typical-baseball",
   "metadata": {},
   "outputs": [],
   "source": [
    "import tensorflow as tf\n",
    "from tensorflow import keras\n",
    "from tensorflow.keras.models import Sequential\n",
    "from tensorflow.keras.layers import Activation, Dense\n",
    "from tensorflow.keras.optimizers import Adam\n",
    "from tensorflow.keras.metrics import categorical_crossentropy\n",
    "from tensorflow.keras.models import load_model, model_from_json"
   ]
  },
  {
   "cell_type": "code",
   "execution_count": 7,
   "id": "thrown-champion",
   "metadata": {},
   "outputs": [
    {
     "name": "stdout",
     "output_type": "stream",
     "text": [
      "Num GPUs Available:  0\n"
     ]
    }
   ],
   "source": [
    "physical_devices = tf.config.experimental.list_physical_devices('GPU')\n",
    "print(\"Num GPUs Available: \",len(physical_devices))\n",
    "# tf.config.experimental.set_memory_growth(physical_devices[0], True)"
   ]
  },
  {
   "cell_type": "code",
   "execution_count": 8,
   "id": "scientific-johns",
   "metadata": {},
   "outputs": [],
   "source": [
    "model = Sequential([\n",
    "    Dense(units=16, input_shape=(1,), activation='relu'),\n",
    "    Dense(units=32, activation='relu'),\n",
    "    Dense(units=2, activation='softmax')\n",
    "])"
   ]
  },
  {
   "cell_type": "code",
   "execution_count": 9,
   "id": "shared-ownership",
   "metadata": {},
   "outputs": [
    {
     "name": "stdout",
     "output_type": "stream",
     "text": [
      "Model: \"sequential\"\n",
      "_________________________________________________________________\n",
      "Layer (type)                 Output Shape              Param #   \n",
      "=================================================================\n",
      "dense (Dense)                (None, 16)                32        \n",
      "_________________________________________________________________\n",
      "dense_1 (Dense)              (None, 32)                544       \n",
      "_________________________________________________________________\n",
      "dense_2 (Dense)              (None, 2)                 66        \n",
      "=================================================================\n",
      "Total params: 642\n",
      "Trainable params: 642\n",
      "Non-trainable params: 0\n",
      "_________________________________________________________________\n"
     ]
    }
   ],
   "source": [
    "model.summary()"
   ]
  },
  {
   "cell_type": "markdown",
   "id": "horizontal-capture",
   "metadata": {},
   "source": [
    "<h2>Training Model"
   ]
  },
  {
   "cell_type": "code",
   "execution_count": 10,
   "id": "satisfactory-greenhouse",
   "metadata": {},
   "outputs": [],
   "source": [
    "# Compile the model\n",
    "model.compile(\n",
    "    optimizer=Adam(learning_rate=0.0001),\n",
    "    loss='sparse_categorical_crossentropy',\n",
    "    metrics=['accuracy']\n",
    ")"
   ]
  },
  {
   "cell_type": "code",
   "execution_count": 11,
   "id": "clean-given",
   "metadata": {},
   "outputs": [
    {
     "name": "stdout",
     "output_type": "stream",
     "text": [
      "Epoch 1/30\n",
      "200/200 - 2s - loss: 0.6747 - accuracy: 0.5315\n",
      "Epoch 2/30\n",
      "200/200 - 0s - loss: 0.6511 - accuracy: 0.6005\n",
      "Epoch 3/30\n",
      "200/200 - 0s - loss: 0.6276 - accuracy: 0.6445\n",
      "Epoch 4/30\n",
      "200/200 - 0s - loss: 0.5996 - accuracy: 0.7015\n",
      "Epoch 5/30\n",
      "200/200 - 0s - loss: 0.5664 - accuracy: 0.7575\n",
      "Epoch 6/30\n",
      "200/200 - 0s - loss: 0.5356 - accuracy: 0.7885\n",
      "Epoch 7/30\n",
      "200/200 - 0s - loss: 0.5059 - accuracy: 0.8140\n",
      "Epoch 8/30\n",
      "200/200 - 0s - loss: 0.4780 - accuracy: 0.8365\n",
      "Epoch 9/30\n",
      "200/200 - 0s - loss: 0.4519 - accuracy: 0.8530\n",
      "Epoch 10/30\n",
      "200/200 - 0s - loss: 0.4281 - accuracy: 0.8665\n",
      "Epoch 11/30\n",
      "200/200 - 0s - loss: 0.4065 - accuracy: 0.8805\n",
      "Epoch 12/30\n",
      "200/200 - 0s - loss: 0.3875 - accuracy: 0.8835\n",
      "Epoch 13/30\n",
      "200/200 - 0s - loss: 0.3712 - accuracy: 0.8970\n",
      "Epoch 14/30\n",
      "200/200 - 0s - loss: 0.3569 - accuracy: 0.9060\n",
      "Epoch 15/30\n",
      "200/200 - 0s - loss: 0.3449 - accuracy: 0.9115\n",
      "Epoch 16/30\n",
      "200/200 - 0s - loss: 0.3346 - accuracy: 0.9160\n",
      "Epoch 17/30\n",
      "200/200 - 0s - loss: 0.3259 - accuracy: 0.9125\n",
      "Epoch 18/30\n",
      "200/200 - 0s - loss: 0.3187 - accuracy: 0.9195\n",
      "Epoch 19/30\n",
      "200/200 - 0s - loss: 0.3123 - accuracy: 0.9215\n",
      "Epoch 20/30\n",
      "200/200 - 0s - loss: 0.3069 - accuracy: 0.9205\n",
      "Epoch 21/30\n",
      "200/200 - 0s - loss: 0.3021 - accuracy: 0.9270\n",
      "Epoch 22/30\n",
      "200/200 - 0s - loss: 0.2981 - accuracy: 0.9280\n",
      "Epoch 23/30\n",
      "200/200 - 0s - loss: 0.2947 - accuracy: 0.9290\n",
      "Epoch 24/30\n",
      "200/200 - 0s - loss: 0.2914 - accuracy: 0.9290\n",
      "Epoch 25/30\n",
      "200/200 - 0s - loss: 0.2888 - accuracy: 0.9290\n",
      "Epoch 26/30\n",
      "200/200 - 0s - loss: 0.2864 - accuracy: 0.9290\n",
      "Epoch 27/30\n",
      "200/200 - 0s - loss: 0.2842 - accuracy: 0.9310\n",
      "Epoch 28/30\n",
      "200/200 - 0s - loss: 0.2823 - accuracy: 0.9305\n",
      "Epoch 29/30\n",
      "200/200 - 0s - loss: 0.2806 - accuracy: 0.9315\n",
      "Epoch 30/30\n",
      "200/200 - 0s - loss: 0.2789 - accuracy: 0.9305\n"
     ]
    },
    {
     "data": {
      "text/plain": [
       "<tensorflow.python.keras.callbacks.History at 0x1c6ac67cf98>"
      ]
     },
     "execution_count": 11,
     "metadata": {},
     "output_type": "execute_result"
    }
   ],
   "source": [
    "# Fit input Data\n",
    "model.fit(\n",
    "    x=scaled_train_samples,\n",
    "    y=train_labels,\n",
    "    batch_size=10,\n",
    "    epochs=30,\n",
    "    shuffle=True,\n",
    "    verbose=2\n",
    ")"
   ]
  },
  {
   "cell_type": "markdown",
   "id": "ethical-briefs",
   "metadata": {},
   "source": [
    "<h2> Validation of Model"
   ]
  },
  {
   "cell_type": "markdown",
   "id": "improved-ireland",
   "metadata": {},
   "source": [
    "<h3>2 Ways of fitting validation set</h3><br>\n",
    "<b>1. Not Part of training set :</b><br>\n",
    "    model.fit(<br>\n",
    "        ...<br>\n",
    "        validation_data=valid_set<br>\n",
    "        ...<br>\n",
    "    )<br>\n",
    "<b>2. Split from training set:</b><br>\n",
    "    model.fit(<br>\n",
    "        ...<br>\n",
    "        validation_split=0.1<br>\n",
    "        ...<br>\n",
    "    )<br>"
   ]
  },
  {
   "cell_type": "code",
   "execution_count": 12,
   "id": "medical-nation",
   "metadata": {},
   "outputs": [
    {
     "name": "stdout",
     "output_type": "stream",
     "text": [
      "Epoch 1/30\n",
      "180/180 - 1s - loss: 0.2710 - accuracy: 0.9333 - val_loss: 0.3334 - val_accuracy: 0.9300\n",
      "Epoch 2/30\n",
      "180/180 - 0s - loss: 0.2698 - accuracy: 0.9333 - val_loss: 0.3329 - val_accuracy: 0.9300\n",
      "Epoch 3/30\n",
      "180/180 - 0s - loss: 0.2685 - accuracy: 0.9300 - val_loss: 0.3340 - val_accuracy: 0.9350\n",
      "Epoch 4/30\n",
      "180/180 - 0s - loss: 0.2672 - accuracy: 0.9339 - val_loss: 0.3336 - val_accuracy: 0.9350\n",
      "Epoch 5/30\n",
      "180/180 - 0s - loss: 0.2662 - accuracy: 0.9339 - val_loss: 0.3333 - val_accuracy: 0.9350\n",
      "Epoch 6/30\n",
      "180/180 - 0s - loss: 0.2654 - accuracy: 0.9344 - val_loss: 0.3351 - val_accuracy: 0.9350\n",
      "Epoch 7/30\n",
      "180/180 - 0s - loss: 0.2644 - accuracy: 0.9333 - val_loss: 0.3342 - val_accuracy: 0.9350\n",
      "Epoch 8/30\n",
      "180/180 - 0s - loss: 0.2635 - accuracy: 0.9339 - val_loss: 0.3336 - val_accuracy: 0.9350\n",
      "Epoch 9/30\n",
      "180/180 - 0s - loss: 0.2628 - accuracy: 0.9339 - val_loss: 0.3325 - val_accuracy: 0.9350\n",
      "Epoch 10/30\n",
      "180/180 - 1s - loss: 0.2620 - accuracy: 0.9339 - val_loss: 0.3302 - val_accuracy: 0.9350\n",
      "Epoch 11/30\n",
      "180/180 - 0s - loss: 0.2614 - accuracy: 0.9339 - val_loss: 0.3312 - val_accuracy: 0.9350\n",
      "Epoch 12/30\n",
      "180/180 - 0s - loss: 0.2608 - accuracy: 0.9339 - val_loss: 0.3311 - val_accuracy: 0.9350\n",
      "Epoch 13/30\n",
      "180/180 - 0s - loss: 0.2602 - accuracy: 0.9339 - val_loss: 0.3327 - val_accuracy: 0.9350\n",
      "Epoch 14/30\n",
      "180/180 - 0s - loss: 0.2597 - accuracy: 0.9339 - val_loss: 0.3324 - val_accuracy: 0.9350\n",
      "Epoch 15/30\n",
      "180/180 - 0s - loss: 0.2590 - accuracy: 0.9383 - val_loss: 0.3296 - val_accuracy: 0.9350\n",
      "Epoch 16/30\n",
      "180/180 - 0s - loss: 0.2587 - accuracy: 0.9339 - val_loss: 0.3320 - val_accuracy: 0.9350\n",
      "Epoch 17/30\n",
      "180/180 - 0s - loss: 0.2582 - accuracy: 0.9339 - val_loss: 0.3307 - val_accuracy: 0.9350\n",
      "Epoch 18/30\n",
      "180/180 - 0s - loss: 0.2579 - accuracy: 0.9361 - val_loss: 0.3319 - val_accuracy: 0.9350\n",
      "Epoch 19/30\n",
      "180/180 - 0s - loss: 0.2573 - accuracy: 0.9339 - val_loss: 0.3295 - val_accuracy: 0.9350\n",
      "Epoch 20/30\n",
      "180/180 - 0s - loss: 0.2569 - accuracy: 0.9350 - val_loss: 0.3293 - val_accuracy: 0.9350\n",
      "Epoch 21/30\n",
      "180/180 - 0s - loss: 0.2568 - accuracy: 0.9339 - val_loss: 0.3295 - val_accuracy: 0.9350\n",
      "Epoch 22/30\n",
      "180/180 - 0s - loss: 0.2563 - accuracy: 0.9344 - val_loss: 0.3297 - val_accuracy: 0.9350\n",
      "Epoch 23/30\n",
      "180/180 - 0s - loss: 0.2559 - accuracy: 0.9344 - val_loss: 0.3293 - val_accuracy: 0.9350\n",
      "Epoch 24/30\n",
      "180/180 - 0s - loss: 0.2557 - accuracy: 0.9339 - val_loss: 0.3300 - val_accuracy: 0.9350\n",
      "Epoch 25/30\n",
      "180/180 - 0s - loss: 0.2554 - accuracy: 0.9378 - val_loss: 0.3305 - val_accuracy: 0.9350\n",
      "Epoch 26/30\n",
      "180/180 - 0s - loss: 0.2550 - accuracy: 0.9356 - val_loss: 0.3301 - val_accuracy: 0.9350\n",
      "Epoch 27/30\n",
      "180/180 - 0s - loss: 0.2548 - accuracy: 0.9367 - val_loss: 0.3287 - val_accuracy: 0.9350\n",
      "Epoch 28/30\n",
      "180/180 - 0s - loss: 0.2545 - accuracy: 0.9394 - val_loss: 0.3285 - val_accuracy: 0.9350\n",
      "Epoch 29/30\n",
      "180/180 - 0s - loss: 0.2543 - accuracy: 0.9339 - val_loss: 0.3291 - val_accuracy: 0.9350\n",
      "Epoch 30/30\n",
      "180/180 - 0s - loss: 0.2541 - accuracy: 0.9350 - val_loss: 0.3301 - val_accuracy: 0.9350\n"
     ]
    },
    {
     "data": {
      "text/plain": [
       "<tensorflow.python.keras.callbacks.History at 0x1c6ada298d0>"
      ]
     },
     "execution_count": 12,
     "metadata": {},
     "output_type": "execute_result"
    }
   ],
   "source": [
    "# We use method 2\n",
    "model.fit(\n",
    "    x=scaled_train_samples,\n",
    "    y=train_labels,\n",
    "    validation_split=0.1,\n",
    "    batch_size=10,\n",
    "    epochs=30,\n",
    "    shuffle=True,\n",
    "    verbose=2\n",
    ")"
   ]
  },
  {
   "cell_type": "markdown",
   "id": "changing-sally",
   "metadata": {},
   "source": [
    "<h2>Validation"
   ]
  },
  {
   "cell_type": "markdown",
   "id": "direct-traffic",
   "metadata": {},
   "source": [
    "<h4>Preprocess Test Data"
   ]
  },
  {
   "cell_type": "code",
   "execution_count": 13,
   "id": "promotional-response",
   "metadata": {},
   "outputs": [],
   "source": [
    "test_labels = []\n",
    "test_samples = []"
   ]
  },
  {
   "cell_type": "code",
   "execution_count": 14,
   "id": "close-performance",
   "metadata": {},
   "outputs": [],
   "source": [
    "# Creating Dataset\n",
    "# 5% of younger individuals(13 - 64) have disease and 5% of older individuals don't have disease\n",
    "for i in range(20):\n",
    "    random_younger = randint(13, 64)\n",
    "    test_samples.append(random_younger)\n",
    "    test_labels.append(1)\n",
    "\n",
    "    random_older = randint(65, 100)\n",
    "    test_samples.append(random_older)\n",
    "    test_labels.append(0)\n",
    "\n",
    "# remaining of younger dont have disease and of older have disease\n",
    "for i in range(180):\n",
    "    random_younger = randint(13, 64)\n",
    "    test_samples.append(random_younger)\n",
    "    test_labels.append(0)\n",
    "\n",
    "    random_older = randint(65, 100)\n",
    "    test_samples.append(random_older)\n",
    "    test_labels.append(1)"
   ]
  },
  {
   "cell_type": "code",
   "execution_count": 15,
   "id": "fundamental-wagner",
   "metadata": {},
   "outputs": [],
   "source": [
    "# Shuffle Data\n",
    "test_labels = np.array(test_labels)\n",
    "test_samples = np.array(test_samples)\n",
    "test_labels, test_samples = shuffle(test_labels, test_samples)"
   ]
  },
  {
   "cell_type": "code",
   "execution_count": 16,
   "id": "upset-hormone",
   "metadata": {},
   "outputs": [],
   "source": [
    "scaled_test_sampled = scaler.fit_transform(test_samples.reshape(-1,1))"
   ]
  },
  {
   "cell_type": "markdown",
   "id": "moral-concept",
   "metadata": {},
   "source": [
    "<h3>Predict"
   ]
  },
  {
   "cell_type": "code",
   "execution_count": 17,
   "id": "optical-concern",
   "metadata": {},
   "outputs": [],
   "source": [
    "predictions = model.predict(\n",
    "    x=scaled_test_sampled,\n",
    "    batch_size=10,\n",
    "    verbose=0\n",
    ")"
   ]
  },
  {
   "cell_type": "code",
   "execution_count": 18,
   "id": "spread-lingerie",
   "metadata": {},
   "outputs": [],
   "source": [
    "rounded_predictions=np.argmax(predictions, axis=-1)"
   ]
  },
  {
   "cell_type": "markdown",
   "id": "upper-accused",
   "metadata": {},
   "source": [
    "<h4>Confusion Matrix"
   ]
  },
  {
   "cell_type": "code",
   "execution_count": 19,
   "id": "bizarre-milwaukee",
   "metadata": {},
   "outputs": [],
   "source": [
    "%matplotlib inline\n",
    "from sklearn.metrics import confusion_matrix\n",
    "import itertools\n",
    "import matplotlib.pyplot as plt"
   ]
  },
  {
   "cell_type": "code",
   "execution_count": 20,
   "id": "grave-hazard",
   "metadata": {},
   "outputs": [],
   "source": [
    "cm=confusion_matrix(y_true=test_labels, y_pred=rounded_predictions)"
   ]
  },
  {
   "cell_type": "code",
   "execution_count": 21,
   "id": "subtle-ceremony",
   "metadata": {},
   "outputs": [],
   "source": [
    "def plot_confusion_matrix(cm,\n",
    "                          classes,\n",
    "                          normalize=False,\n",
    "                          title='Confusion Matrix',\n",
    "                          cmap=plt.cm.Blues\n",
    "                         ):\n",
    "    plt.imshow(cm, interpolation='nearest', cmap=cmap)\n",
    "    plt.title(title)\n",
    "    plt.colorbar()\n",
    "    tick_marks=np.arange(len(classes))\n",
    "    plt.xticks(tick_marks, classes)\n",
    "    plt.yticks(tick_marks, classes)\n",
    "    \n",
    "    if normalize:\n",
    "        cm=cm.astype('float')/cm.sum(axis=1)[:, np.newaxis]\n",
    "        print(\"Normalized confusion Matrix\")\n",
    "    else:\n",
    "        print(\"Conusion Matrix without Normalization\")\n",
    "        \n",
    "    print(cm)\n",
    "    \n",
    "    thresh = cm.max()/2.\n",
    "    for i, j in itertools.product(range(cm.shape[0]),range(cm.shape[1])):\n",
    "        plt.text(j, i, cm[i, j],\n",
    "                 horizontalalignment=\"center\",\n",
    "                 color='white' if cm[i, j] > thresh else \"black\"\n",
    "                )\n",
    "        plt.tight_layout()\n",
    "        plt.ylabel('True Label')\n",
    "        plt.xlabel('Predicted Label')"
   ]
  },
  {
   "cell_type": "code",
   "execution_count": 22,
   "id": "strong-blair",
   "metadata": {},
   "outputs": [
    {
     "name": "stdout",
     "output_type": "stream",
     "text": [
      "Conusion Matrix without Normalization\n",
      "[[175  25]\n",
      " [ 19 181]]\n"
     ]
    },
    {
     "data": {
      "image/png": "[encoded data removed]",
      "text/plain": [
       "<Figure size 432x288 with 2 Axes>"
      ]
     },
     "metadata": {
      "needs_background": "light"
     },
     "output_type": "display_data"
    }
   ],
   "source": [
    "cm_plot_labels=['Healthy','Diseased']\n",
    "plot_confusion_matrix(cm=cm, classes=cm_plot_labels, title=\"Confusion Matrix\")"
   ]
  },
  {
   "cell_type": "code",
   "execution_count": 23,
   "id": "supreme-library",
   "metadata": {},
   "outputs": [
    {
     "name": "stdout",
     "output_type": "stream",
     "text": [
      "Accuracy = 89.0%\n"
     ]
    }
   ],
   "source": [
    "acc=sum(cm.diagonal())/sum(sum(cm))*100\n",
    "print(\"Accuracy = \"+str(acc)+\"%\")"
   ]
  },
  {
   "cell_type": "markdown",
   "id": "diverse-amber",
   "metadata": {},
   "source": [
    "<h1>Save and Load a Model"
   ]
  },
  {
   "cell_type": "code",
   "execution_count": 25,
   "id": "deadly-karen",
   "metadata": {},
   "outputs": [
    {
     "name": "stdout",
     "output_type": "stream",
     "text": [
      "Model: \"sequential\"\n",
      "_________________________________________________________________\n",
      "Layer (type)                 Output Shape              Param #   \n",
      "=================================================================\n",
      "dense (Dense)                (None, 16)                32        \n",
      "_________________________________________________________________\n",
      "dense_1 (Dense)              (None, 32)                544       \n",
      "_________________________________________________________________\n",
      "dense_2 (Dense)              (None, 2)                 66        \n",
      "=================================================================\n",
      "Total params: 642\n",
      "Trainable params: 642\n",
      "Non-trainable params: 0\n",
      "_________________________________________________________________\n"
     ]
    }
   ],
   "source": [
    "model.summary()"
   ]
  },
  {
   "cell_type": "markdown",
   "id": "adjusted-annex",
   "metadata": {},
   "source": [
    "<h2>Method 1 (model.save())</h2><br>\n",
    "<b>This method saves : </b>\n",
    "<ul>\n",
    "    <li>Architechture of the model, allowing it to recreate</li>\n",
    "    <li>Weights of the model</li>\n",
    "    <li>Training Configuration</li>\n",
    "    <li>State of the Optimizer, allowing to resume training exactly where we left off  "
   ]
  },
  {
   "cell_type": "code",
   "execution_count": 26,
   "id": "mineral-sewing",
   "metadata": {},
   "outputs": [],
   "source": [
    "model.save('models/medical_model.h5')"
   ]
  },
  {
   "cell_type": "code",
   "execution_count": 30,
   "id": "preliminary-brake",
   "metadata": {},
   "outputs": [],
   "source": [
    "new_model = load_model('models/medical_model.h5')"
   ]
  },
  {
   "cell_type": "code",
   "execution_count": 31,
   "id": "insured-forwarding",
   "metadata": {},
   "outputs": [
    {
     "name": "stdout",
     "output_type": "stream",
     "text": [
      "Model: \"sequential\"\n",
      "_________________________________________________________________\n",
      "Layer (type)                 Output Shape              Param #   \n",
      "=================================================================\n",
      "dense (Dense)                (None, 16)                32        \n",
      "_________________________________________________________________\n",
      "dense_1 (Dense)              (None, 32)                544       \n",
      "_________________________________________________________________\n",
      "dense_2 (Dense)              (None, 2)                 66        \n",
      "=================================================================\n",
      "Total params: 642\n",
      "Trainable params: 642\n",
      "Non-trainable params: 0\n",
      "_________________________________________________________________\n"
     ]
    }
   ],
   "source": [
    "new_model.summary()"
   ]
  },
  {
   "cell_type": "code",
   "execution_count": 33,
   "id": "instructional-saint",
   "metadata": {},
   "outputs": [
    {
     "data": {
      "text/plain": [
       "[<tf.Variable 'dense/kernel:0' shape=(1, 16) dtype=float32, numpy=\n",
       " array([[-0.06097847, -0.5744474 ,  0.31425822, -0.07675493, -0.56644714,\n",
       "          0.71834266, -0.1383143 , -0.03267903, -0.17230266, -0.05991179,\n",
       "         -0.17764425, -0.06403226,  0.5990359 , -0.12686527,  0.7047308 ,\n",
       "          0.54672915]], dtype=float32)>,\n",
       " <tf.Variable 'dense/bias:0' shape=(16,) dtype=float32, numpy=\n",
       " array([ 0.        ,  0.        ,  0.0343997 ,  0.        ,  0.        ,\n",
       "        -0.16254622,  0.        ,  0.23258129,  0.        ,  0.        ,\n",
       "         0.        ,  0.        , -0.1749567 ,  0.        , -0.13785748,\n",
       "        -0.16551727], dtype=float32)>,\n",
       " <tf.Variable 'dense_1/kernel:0' shape=(16, 32) dtype=float32, numpy=\n",
       " array([[ 0.18796787, -0.08947212, -0.24331653,  0.14080283, -0.00174403,\n",
       "         -0.03459379, -0.16708274,  0.34929076, -0.02473423,  0.10970446,\n",
       "          0.17508939, -0.15510486,  0.26269564,  0.14357468,  0.19396576,\n",
       "         -0.14173657, -0.12334923,  0.32635435,  0.18606612, -0.30216146,\n",
       "         -0.05424756,  0.33895794, -0.05206552,  0.2541006 , -0.10293189,\n",
       "          0.32644656,  0.02550027, -0.26361245, -0.12113999, -0.0117394 ,\n",
       "         -0.01120314,  0.0053159 ],\n",
       "        [-0.13762084, -0.3085993 , -0.07092422,  0.17619237, -0.35095292,\n",
       "         -0.3164731 , -0.22709464, -0.09132597, -0.00599572, -0.04071572,\n",
       "          0.25975195, -0.03038239, -0.31014693,  0.00500411,  0.09503052,\n",
       "          0.22138855, -0.05064863,  0.25106743, -0.13067049,  0.20812032,\n",
       "          0.15735641, -0.02428687,  0.23718259, -0.10596728, -0.27026716,\n",
       "          0.03742352,  0.09191063, -0.1633788 , -0.17899336, -0.15931424,\n",
       "          0.23965362,  0.15818885],\n",
       "        [-0.02376172,  0.08019394, -0.15084332,  0.09574314, -0.3354727 ,\n",
       "         -0.16349134,  0.03109416, -0.2877544 ,  0.21488266, -0.08211477,\n",
       "         -0.14182524,  0.08530208, -0.16657268,  0.1590986 ,  0.03139047,\n",
       "          0.3594036 ,  0.04476256, -0.01623359,  0.07321677,  0.00914747,\n",
       "          0.21125096, -0.189425  ,  0.28506526,  0.11359925,  0.0907593 ,\n",
       "          0.00346978,  0.01900789,  0.03114611,  0.11440239, -0.10116363,\n",
       "         -0.1446719 ,  0.10350665],\n",
       "        [-0.23480354, -0.16703479, -0.14145823,  0.00664639, -0.17332672,\n",
       "         -0.02809948,  0.2270979 ,  0.29601428,  0.0492388 , -0.30207294,\n",
       "          0.25091663,  0.28287128, -0.00796372, -0.06775427, -0.2515211 ,\n",
       "          0.14139855, -0.1220443 , -0.30549568,  0.23499015, -0.22026372,\n",
       "         -0.18438774,  0.32737193, -0.34294966, -0.3110884 ,  0.17230669,\n",
       "          0.21094546, -0.27466586,  0.12216491, -0.24453138,  0.03540975,\n",
       "          0.2721229 , -0.24264681],\n",
       "        [-0.02833837, -0.12191609, -0.12281178, -0.3529969 ,  0.12159711,\n",
       "          0.08812317, -0.25706837, -0.01943129, -0.2681202 , -0.32209867,\n",
       "         -0.09579581,  0.34648547, -0.05467322, -0.32411203, -0.21181564,\n",
       "         -0.13108066, -0.20683043,  0.1983054 , -0.23925763, -0.24765015,\n",
       "         -0.30184746, -0.13360913,  0.2841001 , -0.08188906,  0.25977507,\n",
       "         -0.21185054,  0.00643474,  0.22202453, -0.02518341, -0.29220232,\n",
       "         -0.05192593, -0.10031313],\n",
       "        [-0.06612867,  0.37693757, -0.27439588,  0.5337756 , -0.05908118,\n",
       "         -0.04683383, -0.19730516, -0.47903302,  0.10145395,  0.53484374,\n",
       "         -0.13650909,  0.4314039 ,  0.3195728 , -0.37482855,  0.46087745,\n",
       "          0.2733946 , -0.2924082 ,  0.4648207 ,  0.55603105, -0.16602512,\n",
       "          0.31010425, -0.08996367, -0.5442924 ,  0.19984923, -0.08338387,\n",
       "         -0.05451072,  0.41880712, -0.32632333, -0.50595665,  0.21992685,\n",
       "          0.11855911, -0.51424825],\n",
       "        [ 0.19862255,  0.03224915, -0.2895421 ,  0.34760174, -0.11566301,\n",
       "          0.1061675 , -0.20816101, -0.3046326 ,  0.05688897,  0.03648862,\n",
       "         -0.06931809,  0.18174449, -0.05640832,  0.33984283,  0.23136678,\n",
       "          0.13502401, -0.18252847, -0.22301456, -0.34921792, -0.23145676,\n",
       "         -0.11482327,  0.07891247,  0.01697296,  0.2361789 , -0.31580853,\n",
       "         -0.28024298, -0.15107697, -0.3464426 ,  0.00769752, -0.31258413,\n",
       "          0.23876533,  0.1930016 ],\n",
       "        [-0.33177155, -0.25521222, -0.00610775, -0.140659  ,  0.36220992,\n",
       "          0.39242294, -0.09487298,  0.46527725, -0.19018877,  0.01255474,\n",
       "         -0.03686729, -0.26481658,  0.28620386,  0.34636182, -0.3155657 ,\n",
       "         -0.2896253 , -0.03072853,  0.25432384, -0.19492748, -0.01653689,\n",
       "         -0.22695464, -0.05178178,  0.2188586 ,  0.03270502,  0.16999654,\n",
       "          0.04341901, -0.31735364, -0.26125288,  0.21104665,  0.31439367,\n",
       "          0.43991557,  0.26193598],\n",
       "        [-0.3350274 ,  0.07352298, -0.2342296 ,  0.02939785,  0.34707382,\n",
       "          0.13148478, -0.1908454 , -0.19170225, -0.10209626,  0.30347493,\n",
       "         -0.16480218, -0.33740413, -0.2993532 , -0.3246677 , -0.15005197,\n",
       "         -0.20383531, -0.14826621,  0.16152546,  0.10691518, -0.2419009 ,\n",
       "          0.34574065,  0.20315036, -0.27512679, -0.22448592, -0.00514108,\n",
       "          0.13274166, -0.04948521, -0.27473348,  0.23570624, -0.1623242 ,\n",
       "         -0.33633167, -0.16014336],\n",
       "        [-0.23110744, -0.24784395,  0.06061265,  0.0904077 ,  0.23868588,\n",
       "          0.30320123, -0.26391208,  0.15834573, -0.09414256,  0.11112556,\n",
       "         -0.02732953,  0.00153357, -0.01994422, -0.30877024,  0.22054836,\n",
       "          0.20233253, -0.17214349, -0.2757835 , -0.11304358, -0.09154573,\n",
       "          0.03673697,  0.20288607,  0.00967565, -0.0778707 , -0.1592072 ,\n",
       "         -0.09494826, -0.23429635, -0.23434474, -0.05839759,  0.03576151,\n",
       "         -0.31240642, -0.16789214],\n",
       "        [ 0.09282827,  0.09150082,  0.23594877,  0.32865134, -0.33449113,\n",
       "         -0.22187963, -0.30166253, -0.02205241,  0.03876084, -0.31082836,\n",
       "          0.20813158,  0.34086576,  0.11387479,  0.23406199, -0.2475995 ,\n",
       "         -0.23614591,  0.14325586, -0.04900911, -0.2539937 , -0.06288031,\n",
       "          0.30365756, -0.04433072, -0.27580798,  0.27215442, -0.07363391,\n",
       "         -0.23121592,  0.2481449 ,  0.18904671, -0.09037811, -0.28488395,\n",
       "          0.27159235, -0.14921467],\n",
       "        [-0.26847255, -0.17558588,  0.04174745,  0.01862976, -0.08221307,\n",
       "          0.23454782,  0.03845873, -0.30238813, -0.23930871,  0.06543052,\n",
       "          0.09452432, -0.1307632 ,  0.02414727,  0.24766633, -0.26243865,\n",
       "         -0.10988291,  0.30312052,  0.04970706, -0.27200556,  0.11906543,\n",
       "          0.3338293 , -0.26331168,  0.18360135, -0.32228228,  0.15083447,\n",
       "          0.1639826 ,  0.02713472,  0.29557177, -0.00815383,  0.20183614,\n",
       "         -0.03130046,  0.07015908],\n",
       "        [-0.09717876,  0.18925531, -0.22764668,  0.10352736, -0.51623833,\n",
       "         -0.33603522,  0.29504505, -0.01889317,  0.00378586,  0.33784142,\n",
       "          0.14940664,  0.33406925,  0.27267405, -0.36848903,  0.5171907 ,\n",
       "          0.55084336, -0.38619575,  0.2613932 ,  0.31693646, -0.0189735 ,\n",
       "         -0.34134248, -0.14340907,  0.07646412, -0.17489871, -0.23472574,\n",
       "          0.55952656, -0.09212911,  0.03135002, -0.24350981,  0.5381017 ,\n",
       "          0.14983626, -0.34307614],\n",
       "        [ 0.16220549, -0.2819212 , -0.20908554, -0.2949315 ,  0.1811212 ,\n",
       "         -0.13796434, -0.3084683 , -0.1427775 ,  0.27992252, -0.02927235,\n",
       "          0.32765946, -0.2925459 , -0.01340044, -0.23044994,  0.04225558,\n",
       "         -0.0044722 , -0.08986533, -0.07625502,  0.05551305, -0.07269877,\n",
       "         -0.24951507, -0.21400821,  0.15324846, -0.32376584, -0.21092145,\n",
       "          0.10159522,  0.10164472, -0.07716599,  0.31301257, -0.22477537,\n",
       "          0.31036308, -0.00240397],\n",
       "        [ 0.12028196,  0.2488687 ,  0.1121144 ,  0.25106204,  0.06207404,\n",
       "         -0.37139073, -0.02941218,  0.05620671, -0.31374174,  0.4595437 ,\n",
       "         -0.0769937 ,  0.29926932,  0.32736334, -0.14416063,  0.2604265 ,\n",
       "          0.5534181 , -0.22027805,  0.031441  ,  0.20665014, -0.18832341,\n",
       "         -0.17821862,  0.02575344, -0.39512122, -0.14761232, -0.07776053,\n",
       "          0.49635836,  0.40694317, -0.2763691 ,  0.02313537,  0.4432693 ,\n",
       "         -0.12558737,  0.04908233],\n",
       "        [-0.07446337,  0.5096184 ,  0.08765018,  0.4113622 , -0.6081467 ,\n",
       "         -0.21788618, -0.1313944 , -0.45149127,  0.15193462,  0.22036627,\n",
       "          0.02126485,  0.43287924,  0.58109844, -0.5800857 ,  0.40436628,\n",
       "          0.11022409, -0.07664079,  0.2519682 ,  0.4528253 , -0.2997751 ,\n",
       "         -0.06348227, -0.26775795, -0.27970046, -0.24155658, -0.19502285,\n",
       "          0.44977626,  0.39301646, -0.00235972, -0.48958173, -0.04846049,\n",
       "         -0.27641907, -0.47091144]], dtype=float32)>,\n",
       " <tf.Variable 'dense_1/bias:0' shape=(32,) dtype=float32, numpy=\n",
       " array([ 0.        , -0.10154461,  0.        , -0.12774704,  0.25665843,\n",
       "         0.22648457,  0.        ,  0.21167938,  0.1627356 , -0.12474958,\n",
       "         0.        , -0.11298863, -0.14288665,  0.27239338, -0.10513407,\n",
       "        -0.14345334,  0.27245945, -0.13156807, -0.11704287,  0.        ,\n",
       "        -0.00706211,  0.1674508 ,  0.23683919, -0.02390055, -0.04840001,\n",
       "        -0.11959729, -0.09125753,  0.        ,  0.24563892, -0.14920506,\n",
       "         0.1693272 ,  0.25125176], dtype=float32)>,\n",
       " <tf.Variable 'dense_2/kernel:0' shape=(32, 2) dtype=float32, numpy=\n",
       " array([[ 0.14390078, -0.1691508 ],\n",
       "        [-0.13893306,  0.283955  ],\n",
       "        [ 0.11196163,  0.27402118],\n",
       "        [ 0.05190868,  0.65485096],\n",
       "        [ 0.5896    , -0.6607173 ],\n",
       "        [ 0.6695803 , -0.88618755],\n",
       "        [-0.08641297, -0.15091461],\n",
       "        [ 0.77149457, -0.68464524],\n",
       "        [ 0.14200516, -0.35958636],\n",
       "        [-0.28673175,  0.5402733 ],\n",
       "        [ 0.09544358,  0.12949511],\n",
       "        [-0.6204441 ,  0.2018347 ],\n",
       "        [ 0.02993023,  0.5828258 ],\n",
       "        [ 0.38445917, -0.7611532 ],\n",
       "        [-0.5022061 ,  0.38478115],\n",
       "        [ 0.03096372,  0.5609437 ],\n",
       "        [ 0.32819042, -0.87538993],\n",
       "        [-0.4958418 ,  0.36975172],\n",
       "        [-0.41587463,  0.40323368],\n",
       "        [ 0.01770756,  0.27164677],\n",
       "        [-0.34182966, -0.3394614 ],\n",
       "        [ 0.5190012 ,  0.00126848],\n",
       "        [ 0.8110479 , -0.60747355],\n",
       "        [-0.25332972, -0.14486381],\n",
       "        [-0.16274892,  0.29167935],\n",
       "        [-0.35135874,  0.54492533],\n",
       "        [-0.23339418,  0.71881294],\n",
       "        [-0.03763846,  0.02215779],\n",
       "        [ 0.7219128 , -0.7013219 ],\n",
       "        [ 0.0604288 ,  0.63422877],\n",
       "        [ 0.38091472, -0.13813166],\n",
       "        [ 0.77352524, -0.4015536 ]], dtype=float32)>,\n",
       " <tf.Variable 'dense_2/bias:0' shape=(2,) dtype=float32, numpy=array([ 0.16917036, -0.16917038], dtype=float32)>]"
      ]
     },
     "execution_count": 33,
     "metadata": {},
     "output_type": "execute_result"
    }
   ],
   "source": [
    "new_model.weights"
   ]
  },
  {
   "cell_type": "markdown",
   "id": "fatty-blowing",
   "metadata": {},
   "source": [
    "<h2>Method 2(model.to_json())</h2><br>\n",
    "If we only need to save the architecture of a model, and not it's weights or it's training configuration, we can use the following function to save the architechture  "
   ]
  },
  {
   "cell_type": "code",
   "execution_count": 35,
   "id": "ethical-crossing",
   "metadata": {},
   "outputs": [],
   "source": [
    "json_string = model.to_json()"
   ]
  },
  {
   "cell_type": "code",
   "execution_count": 36,
   "id": "returning-allah",
   "metadata": {},
   "outputs": [
    {
     "data": {
      "text/plain": [
       "'{\"class_name\": \"Sequential\", \"config\": {\"name\": \"sequential\", \"layers\": [{\"class_name\": \"InputLayer\", \"config\": {\"batch_input_shape\": [null, 1], \"dtype\": \"float32\", \"sparse\": false, \"ragged\": false, \"name\": \"dense_input\"}}, {\"class_name\": \"Dense\", \"config\": {\"name\": \"dense\", \"trainable\": true, \"batch_input_shape\": [null, 1], \"dtype\": \"float32\", \"units\": 16, \"activation\": \"relu\", \"use_bias\": true, \"kernel_initializer\": {\"class_name\": \"GlorotUniform\", \"config\": {\"seed\": null}}, \"bias_initializer\": {\"class_name\": \"Zeros\", \"config\": {}}, \"kernel_regularizer\": null, \"bias_regularizer\": null, \"activity_regularizer\": null, \"kernel_constraint\": null, \"bias_constraint\": null}}, {\"class_name\": \"Dense\", \"config\": {\"name\": \"dense_1\", \"trainable\": true, \"dtype\": \"float32\", \"units\": 32, \"activation\": \"relu\", \"use_bias\": true, \"kernel_initializer\": {\"class_name\": \"GlorotUniform\", \"config\": {\"seed\": null}}, \"bias_initializer\": {\"class_name\": \"Zeros\", \"config\": {}}, \"kernel_regularizer\": null, \"bias_regularizer\": null, \"activity_regularizer\": null, \"kernel_constraint\": null, \"bias_constraint\": null}}, {\"class_name\": \"Dense\", \"config\": {\"name\": \"dense_2\", \"trainable\": true, \"dtype\": \"float32\", \"units\": 2, \"activation\": \"softmax\", \"use_bias\": true, \"kernel_initializer\": {\"class_name\": \"GlorotUniform\", \"config\": {\"seed\": null}}, \"bias_initializer\": {\"class_name\": \"Zeros\", \"config\": {}}, \"kernel_regularizer\": null, \"bias_regularizer\": null, \"activity_regularizer\": null, \"kernel_constraint\": null, \"bias_constraint\": null}}]}, \"keras_version\": \"2.4.0\", \"backend\": \"tensorflow\"}'"
      ]
     },
     "execution_count": 36,
     "metadata": {},
     "output_type": "execute_result"
    }
   ],
   "source": [
    "json_string"
   ]
  },
  {
   "cell_type": "code",
   "execution_count": 39,
   "id": "classical-witness",
   "metadata": {},
   "outputs": [
    {
     "name": "stdout",
     "output_type": "stream",
     "text": [
      "Model: \"sequential\"\n",
      "_________________________________________________________________\n",
      "Layer (type)                 Output Shape              Param #   \n",
      "=================================================================\n",
      "dense (Dense)                (None, 16)                32        \n",
      "_________________________________________________________________\n",
      "dense_1 (Dense)              (None, 32)                544       \n",
      "_________________________________________________________________\n",
      "dense_2 (Dense)              (None, 2)                 66        \n",
      "=================================================================\n",
      "Total params: 642\n",
      "Trainable params: 642\n",
      "Non-trainable params: 0\n",
      "_________________________________________________________________\n"
     ]
    }
   ],
   "source": [
    "model_architecture = model_from_json(json_string)\n",
    "model_architecture.summary()"
   ]
  },
  {
   "cell_type": "markdown",
   "id": "neither-testament",
   "metadata": {},
   "source": [
    "<h2>Method 3(model.save_weights())</h2><br>\n",
    "If we only need to save the weights of a model we can use the following function."
   ]
  },
  {
   "cell_type": "code",
   "execution_count": 40,
   "id": "prepared-flower",
   "metadata": {},
   "outputs": [],
   "source": [
    "model.save_weights('models/medical_model_weights.h5')"
   ]
  },
  {
   "cell_type": "code",
   "execution_count": 41,
   "id": "israeli-plymouth",
   "metadata": {},
   "outputs": [],
   "source": [
    "model2 = Sequential([\n",
    "    Dense(units=16, input_shape=(1,), activation='relu'),\n",
    "    Dense(units=32, activation='relu'),\n",
    "    Dense(units=2, activation='softmax')\n",
    "])"
   ]
  },
  {
   "cell_type": "code",
   "execution_count": 42,
   "id": "medium-rehabilitation",
   "metadata": {},
   "outputs": [],
   "source": [
    "model2.load_weights('models/medical_model_weights.h5')"
   ]
  },
  {
   "cell_type": "code",
   "execution_count": 43,
   "id": "seasonal-softball",
   "metadata": {},
   "outputs": [
    {
     "data": {
      "text/plain": [
       "[array([[-0.06097847, -0.5744474 ,  0.31425822, -0.07675493, -0.56644714,\n",
       "          0.71834266, -0.1383143 , -0.03267903, -0.17230266, -0.05991179,\n",
       "         -0.17764425, -0.06403226,  0.5990359 , -0.12686527,  0.7047308 ,\n",
       "          0.54672915]], dtype=float32),\n",
       " array([ 0.        ,  0.        ,  0.0343997 ,  0.        ,  0.        ,\n",
       "        -0.16254622,  0.        ,  0.23258129,  0.        ,  0.        ,\n",
       "         0.        ,  0.        , -0.1749567 ,  0.        , -0.13785748,\n",
       "        -0.16551727], dtype=float32),\n",
       " array([[ 0.18796787, -0.08947212, -0.24331653,  0.14080283, -0.00174403,\n",
       "         -0.03459379, -0.16708274,  0.34929076, -0.02473423,  0.10970446,\n",
       "          0.17508939, -0.15510486,  0.26269564,  0.14357468,  0.19396576,\n",
       "         -0.14173657, -0.12334923,  0.32635435,  0.18606612, -0.30216146,\n",
       "         -0.05424756,  0.33895794, -0.05206552,  0.2541006 , -0.10293189,\n",
       "          0.32644656,  0.02550027, -0.26361245, -0.12113999, -0.0117394 ,\n",
       "         -0.01120314,  0.0053159 ],\n",
       "        [-0.13762084, -0.3085993 , -0.07092422,  0.17619237, -0.35095292,\n",
       "         -0.3164731 , -0.22709464, -0.09132597, -0.00599572, -0.04071572,\n",
       "          0.25975195, -0.03038239, -0.31014693,  0.00500411,  0.09503052,\n",
       "          0.22138855, -0.05064863,  0.25106743, -0.13067049,  0.20812032,\n",
       "          0.15735641, -0.02428687,  0.23718259, -0.10596728, -0.27026716,\n",
       "          0.03742352,  0.09191063, -0.1633788 , -0.17899336, -0.15931424,\n",
       "          0.23965362,  0.15818885],\n",
       "        [-0.02376172,  0.08019394, -0.15084332,  0.09574314, -0.3354727 ,\n",
       "         -0.16349134,  0.03109416, -0.2877544 ,  0.21488266, -0.08211477,\n",
       "         -0.14182524,  0.08530208, -0.16657268,  0.1590986 ,  0.03139047,\n",
       "          0.3594036 ,  0.04476256, -0.01623359,  0.07321677,  0.00914747,\n",
       "          0.21125096, -0.189425  ,  0.28506526,  0.11359925,  0.0907593 ,\n",
       "          0.00346978,  0.01900789,  0.03114611,  0.11440239, -0.10116363,\n",
       "         -0.1446719 ,  0.10350665],\n",
       "        [-0.23480354, -0.16703479, -0.14145823,  0.00664639, -0.17332672,\n",
       "         -0.02809948,  0.2270979 ,  0.29601428,  0.0492388 , -0.30207294,\n",
       "          0.25091663,  0.28287128, -0.00796372, -0.06775427, -0.2515211 ,\n",
       "          0.14139855, -0.1220443 , -0.30549568,  0.23499015, -0.22026372,\n",
       "         -0.18438774,  0.32737193, -0.34294966, -0.3110884 ,  0.17230669,\n",
       "          0.21094546, -0.27466586,  0.12216491, -0.24453138,  0.03540975,\n",
       "          0.2721229 , -0.24264681],\n",
       "        [-0.02833837, -0.12191609, -0.12281178, -0.3529969 ,  0.12159711,\n",
       "          0.08812317, -0.25706837, -0.01943129, -0.2681202 , -0.32209867,\n",
       "         -0.09579581,  0.34648547, -0.05467322, -0.32411203, -0.21181564,\n",
       "         -0.13108066, -0.20683043,  0.1983054 , -0.23925763, -0.24765015,\n",
       "         -0.30184746, -0.13360913,  0.2841001 , -0.08188906,  0.25977507,\n",
       "         -0.21185054,  0.00643474,  0.22202453, -0.02518341, -0.29220232,\n",
       "         -0.05192593, -0.10031313],\n",
       "        [-0.06612867,  0.37693757, -0.27439588,  0.5337756 , -0.05908118,\n",
       "         -0.04683383, -0.19730516, -0.47903302,  0.10145395,  0.53484374,\n",
       "         -0.13650909,  0.4314039 ,  0.3195728 , -0.37482855,  0.46087745,\n",
       "          0.2733946 , -0.2924082 ,  0.4648207 ,  0.55603105, -0.16602512,\n",
       "          0.31010425, -0.08996367, -0.5442924 ,  0.19984923, -0.08338387,\n",
       "         -0.05451072,  0.41880712, -0.32632333, -0.50595665,  0.21992685,\n",
       "          0.11855911, -0.51424825],\n",
       "        [ 0.19862255,  0.03224915, -0.2895421 ,  0.34760174, -0.11566301,\n",
       "          0.1061675 , -0.20816101, -0.3046326 ,  0.05688897,  0.03648862,\n",
       "         -0.06931809,  0.18174449, -0.05640832,  0.33984283,  0.23136678,\n",
       "          0.13502401, -0.18252847, -0.22301456, -0.34921792, -0.23145676,\n",
       "         -0.11482327,  0.07891247,  0.01697296,  0.2361789 , -0.31580853,\n",
       "         -0.28024298, -0.15107697, -0.3464426 ,  0.00769752, -0.31258413,\n",
       "          0.23876533,  0.1930016 ],\n",
       "        [-0.33177155, -0.25521222, -0.00610775, -0.140659  ,  0.36220992,\n",
       "          0.39242294, -0.09487298,  0.46527725, -0.19018877,  0.01255474,\n",
       "         -0.03686729, -0.26481658,  0.28620386,  0.34636182, -0.3155657 ,\n",
       "         -0.2896253 , -0.03072853,  0.25432384, -0.19492748, -0.01653689,\n",
       "         -0.22695464, -0.05178178,  0.2188586 ,  0.03270502,  0.16999654,\n",
       "          0.04341901, -0.31735364, -0.26125288,  0.21104665,  0.31439367,\n",
       "          0.43991557,  0.26193598],\n",
       "        [-0.3350274 ,  0.07352298, -0.2342296 ,  0.02939785,  0.34707382,\n",
       "          0.13148478, -0.1908454 , -0.19170225, -0.10209626,  0.30347493,\n",
       "         -0.16480218, -0.33740413, -0.2993532 , -0.3246677 , -0.15005197,\n",
       "         -0.20383531, -0.14826621,  0.16152546,  0.10691518, -0.2419009 ,\n",
       "          0.34574065,  0.20315036, -0.27512679, -0.22448592, -0.00514108,\n",
       "          0.13274166, -0.04948521, -0.27473348,  0.23570624, -0.1623242 ,\n",
       "         -0.33633167, -0.16014336],\n",
       "        [-0.23110744, -0.24784395,  0.06061265,  0.0904077 ,  0.23868588,\n",
       "          0.30320123, -0.26391208,  0.15834573, -0.09414256,  0.11112556,\n",
       "         -0.02732953,  0.00153357, -0.01994422, -0.30877024,  0.22054836,\n",
       "          0.20233253, -0.17214349, -0.2757835 , -0.11304358, -0.09154573,\n",
       "          0.03673697,  0.20288607,  0.00967565, -0.0778707 , -0.1592072 ,\n",
       "         -0.09494826, -0.23429635, -0.23434474, -0.05839759,  0.03576151,\n",
       "         -0.31240642, -0.16789214],\n",
       "        [ 0.09282827,  0.09150082,  0.23594877,  0.32865134, -0.33449113,\n",
       "         -0.22187963, -0.30166253, -0.02205241,  0.03876084, -0.31082836,\n",
       "          0.20813158,  0.34086576,  0.11387479,  0.23406199, -0.2475995 ,\n",
       "         -0.23614591,  0.14325586, -0.04900911, -0.2539937 , -0.06288031,\n",
       "          0.30365756, -0.04433072, -0.27580798,  0.27215442, -0.07363391,\n",
       "         -0.23121592,  0.2481449 ,  0.18904671, -0.09037811, -0.28488395,\n",
       "          0.27159235, -0.14921467],\n",
       "        [-0.26847255, -0.17558588,  0.04174745,  0.01862976, -0.08221307,\n",
       "          0.23454782,  0.03845873, -0.30238813, -0.23930871,  0.06543052,\n",
       "          0.09452432, -0.1307632 ,  0.02414727,  0.24766633, -0.26243865,\n",
       "         -0.10988291,  0.30312052,  0.04970706, -0.27200556,  0.11906543,\n",
       "          0.3338293 , -0.26331168,  0.18360135, -0.32228228,  0.15083447,\n",
       "          0.1639826 ,  0.02713472,  0.29557177, -0.00815383,  0.20183614,\n",
       "         -0.03130046,  0.07015908],\n",
       "        [-0.09717876,  0.18925531, -0.22764668,  0.10352736, -0.51623833,\n",
       "         -0.33603522,  0.29504505, -0.01889317,  0.00378586,  0.33784142,\n",
       "          0.14940664,  0.33406925,  0.27267405, -0.36848903,  0.5171907 ,\n",
       "          0.55084336, -0.38619575,  0.2613932 ,  0.31693646, -0.0189735 ,\n",
       "         -0.34134248, -0.14340907,  0.07646412, -0.17489871, -0.23472574,\n",
       "          0.55952656, -0.09212911,  0.03135002, -0.24350981,  0.5381017 ,\n",
       "          0.14983626, -0.34307614],\n",
       "        [ 0.16220549, -0.2819212 , -0.20908554, -0.2949315 ,  0.1811212 ,\n",
       "         -0.13796434, -0.3084683 , -0.1427775 ,  0.27992252, -0.02927235,\n",
       "          0.32765946, -0.2925459 , -0.01340044, -0.23044994,  0.04225558,\n",
       "         -0.0044722 , -0.08986533, -0.07625502,  0.05551305, -0.07269877,\n",
       "         -0.24951507, -0.21400821,  0.15324846, -0.32376584, -0.21092145,\n",
       "          0.10159522,  0.10164472, -0.07716599,  0.31301257, -0.22477537,\n",
       "          0.31036308, -0.00240397],\n",
       "        [ 0.12028196,  0.2488687 ,  0.1121144 ,  0.25106204,  0.06207404,\n",
       "         -0.37139073, -0.02941218,  0.05620671, -0.31374174,  0.4595437 ,\n",
       "         -0.0769937 ,  0.29926932,  0.32736334, -0.14416063,  0.2604265 ,\n",
       "          0.5534181 , -0.22027805,  0.031441  ,  0.20665014, -0.18832341,\n",
       "         -0.17821862,  0.02575344, -0.39512122, -0.14761232, -0.07776053,\n",
       "          0.49635836,  0.40694317, -0.2763691 ,  0.02313537,  0.4432693 ,\n",
       "         -0.12558737,  0.04908233],\n",
       "        [-0.07446337,  0.5096184 ,  0.08765018,  0.4113622 , -0.6081467 ,\n",
       "         -0.21788618, -0.1313944 , -0.45149127,  0.15193462,  0.22036627,\n",
       "          0.02126485,  0.43287924,  0.58109844, -0.5800857 ,  0.40436628,\n",
       "          0.11022409, -0.07664079,  0.2519682 ,  0.4528253 , -0.2997751 ,\n",
       "         -0.06348227, -0.26775795, -0.27970046, -0.24155658, -0.19502285,\n",
       "          0.44977626,  0.39301646, -0.00235972, -0.48958173, -0.04846049,\n",
       "         -0.27641907, -0.47091144]], dtype=float32),\n",
       " array([ 0.        , -0.10154461,  0.        , -0.12774704,  0.25665843,\n",
       "         0.22648457,  0.        ,  0.21167938,  0.1627356 , -0.12474958,\n",
       "         0.        , -0.11298863, -0.14288665,  0.27239338, -0.10513407,\n",
       "        -0.14345334,  0.27245945, -0.13156807, -0.11704287,  0.        ,\n",
       "        -0.00706211,  0.1674508 ,  0.23683919, -0.02390055, -0.04840001,\n",
       "        -0.11959729, -0.09125753,  0.        ,  0.24563892, -0.14920506,\n",
       "         0.1693272 ,  0.25125176], dtype=float32),\n",
       " array([[ 0.14390078, -0.1691508 ],\n",
       "        [-0.13893306,  0.283955  ],\n",
       "        [ 0.11196163,  0.27402118],\n",
       "        [ 0.05190868,  0.65485096],\n",
       "        [ 0.5896    , -0.6607173 ],\n",
       "        [ 0.6695803 , -0.88618755],\n",
       "        [-0.08641297, -0.15091461],\n",
       "        [ 0.77149457, -0.68464524],\n",
       "        [ 0.14200516, -0.35958636],\n",
       "        [-0.28673175,  0.5402733 ],\n",
       "        [ 0.09544358,  0.12949511],\n",
       "        [-0.6204441 ,  0.2018347 ],\n",
       "        [ 0.02993023,  0.5828258 ],\n",
       "        [ 0.38445917, -0.7611532 ],\n",
       "        [-0.5022061 ,  0.38478115],\n",
       "        [ 0.03096372,  0.5609437 ],\n",
       "        [ 0.32819042, -0.87538993],\n",
       "        [-0.4958418 ,  0.36975172],\n",
       "        [-0.41587463,  0.40323368],\n",
       "        [ 0.01770756,  0.27164677],\n",
       "        [-0.34182966, -0.3394614 ],\n",
       "        [ 0.5190012 ,  0.00126848],\n",
       "        [ 0.8110479 , -0.60747355],\n",
       "        [-0.25332972, -0.14486381],\n",
       "        [-0.16274892,  0.29167935],\n",
       "        [-0.35135874,  0.54492533],\n",
       "        [-0.23339418,  0.71881294],\n",
       "        [-0.03763846,  0.02215779],\n",
       "        [ 0.7219128 , -0.7013219 ],\n",
       "        [ 0.0604288 ,  0.63422877],\n",
       "        [ 0.38091472, -0.13813166],\n",
       "        [ 0.77352524, -0.4015536 ]], dtype=float32),\n",
       " array([ 0.16917036, -0.16917038], dtype=float32)]"
      ]
     },
     "execution_count": 43,
     "metadata": {},
     "output_type": "execute_result"
    }
   ],
   "source": [
    "model2.get_weights()"
   ]
  },
  {
   "cell_type": "code",
   "execution_count": null,
   "id": "bearing-robin",
   "metadata": {},
   "outputs": [],
   "source": []
  }
 ],
 "metadata": {
  "kernelspec": {
   "display_name": "Python 3",
   "language": "python",
   "name": "python3"
  },
  "language_info": {
   "codemirror_mode": {
    "name": "ipython",
    "version": 3
   },
   "file_extension": ".py",
   "mimetype": "text/x-python",
   "name": "python",
   "nbconvert_exporter": "python",
   "pygments_lexer": "ipython3",
   "version": "3.6.12"
  }
 },
 "nbformat": 4,
 "nbformat_minor": 5
}
